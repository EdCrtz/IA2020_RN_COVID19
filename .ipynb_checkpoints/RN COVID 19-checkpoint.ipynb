{
 "cells": [
  {
   "cell_type": "markdown",
   "metadata": {},
   "source": [
    "<h1> Poyecto de RN\n",
    " "
   ]
  },
  {
   "cell_type": "markdown",
   "metadata": {},
   "source": [
    "<h2><strong>Descripción del Proyecto</strong></h2>"
   ]
  },
  {
   "cell_type": "markdown",
   "metadata": {},
   "source": [
    "<ul style=\"font-size: 15px;\">\n",
    "    <li>   \n",
    "     Investigar algún framework , paquete o librería para la construcción de Redes Neuronales.\n",
    "    Describir sus características y realizar algún ejemplo simple con los datos que actualmente se\n",
    "    tienen de covid-19. Puede ser por ejemplo a partir de la edad, sexo, país, o región, enfermedades\n",
    "    o padecimientos crónicos, diabetes, hipertensión u obesidad, determinar el riesgo de muerte. El\n",
    "    secretario de salud de Sinaloa publica diariamente los detalles de los fallecimientos, con esto se\n",
    "     puede hacer el ejercicio.<p/>\n",
    "    </li>\n",
    "    <br/>\n",
    "    <li>\n",
    "    El objetivo será aterrizar los conceptos analizados en clase de las redes neuronales y tener nuestro\n",
    "    primer contacto con un herramienta que me permita su creación. También analizaremos la\n",
    "    importancia de los datos para que la red se entrene y los resultados que obtenemos al probarla.</li>\n",
    "    <li>Harás un documento donde debes describir:</li>\n",
    "    <ul>\n",
    "        <li>\n",
    "        El objetivo de la red :¿Cuál es el principal objetivo?. ¿Qué vamos a intentar predecir? ¿Cuáles son\n",
    "        las características objetivo? ¿Cuáles son los datos de entrada?, ¿están disponibles? ¿A qué clase\n",
    "        de problema nos enfrentamos? ¿Cómo se va a medir la variable objetivo? </li>\n",
    "        <li>El diseño de tu red (número de neuronas, capas, función de transferencia, etc).</li>\n",
    "        <li>Información del framework , paquete o librería para la construcción de Redes Neuronales que\n",
    "         investigaste.</li>\n",
    "        <li>Ejemplos de ejecución.</li>\n",
    "    </ul>\n",
    "    <li>Expondrás al grupo tu trabajo (en equipo) y Subirás a plataforma Moodle el documento y tu\n",
    "código (o vínculo a éste).</li>\n",
    "        \n",
    " </ul>"
   ]
  },
  {
   "cell_type": "code",
   "execution_count": null,
   "metadata": {},
   "outputs": [],
   "source": [
    "# La primera parte del código contiene las declaraciones de importación\n",
    "import pandas as pd\n",
    "import numpy as np\n",
    "from keras.models import Sequential\n",
    "from keras.layers.core import Dense"
   ]
  },
  {
   "cell_type": "code",
   "execution_count": null,
   "metadata": {},
   "outputs": [],
   "source": []
  },
  {
   "cell_type": "code",
   "execution_count": null,
   "metadata": {},
   "outputs": [],
   "source": [
    "TARGET_VARIABLE =\"MUERTO\"\n",
    "TRAIN_TEST_SPLIT=0.5\n",
    "HIDDEN_LAYER_SIZE=10\n",
    "raw_data = pd.read_csv(\"COVID19DATAMEXICO.csv\")"
   ]
  },
  {
   "cell_type": "code",
   "execution_count": null,
   "metadata": {},
   "outputs": [],
   "source": [
    "mask = np.random.rand(len(raw_data)) < TRAIN_TEST_SPLIT\n",
    "tr_dataset = raw_data[mask]\n",
    "te_dataset = raw_data[mask]"
   ]
  },
  {
   "cell_type": "code",
   "execution_count": null,
   "metadata": {},
   "outputs": [],
   "source": [
    "tr_data = np.array(raw_data.drop(TARGET_VARIABLE, axis=1))\n",
    "tr_labels = np.array(raw_data[[TARGET_VARIABLE]])\n",
    "te_data = np.array(te_dataset.drop(TARGET_VARIABLE, axis=1))\n",
    "te_labels = np.array(te_dataset[[TARGET_VARIABLE]])"
   ]
  },
  {
   "cell_type": "code",
   "execution_count": null,
   "metadata": {},
   "outputs": [],
   "source": [
    "ffnn = Sequential()"
   ]
  },
  {
   "cell_type": "code",
   "execution_count": null,
   "metadata": {},
   "outputs": [],
   "source": [
    "ffnn.add(Dense(HIDDEN_LAYER_SIZE, input_shape=(3,),activation=\"sigmoid\"))\n",
    "\n",
    "## Agregamos otra capa \n",
    "ffnn.add(Dense(3, activation=\"sigmoid\"))"
   ]
  },
  {
   "cell_type": "code",
   "execution_count": null,
   "metadata": {},
   "outputs": [],
   "source": [
    "# La Siguente línea tomará el tamaño de la capa oculta de la capa anterior (Keras lo hace automáticamente) y \n",
    "# creará una capa de salida con una neurona.\n",
    "\n",
    "ffnn.add(Dense(1, activation=\"sigmoid\"))"
   ]
  },
  {
   "cell_type": "code",
   "execution_count": null,
   "metadata": {},
   "outputs": [],
   "source": [
    "# En seguida se compila el modelo, lo que significa que ensamblará todas las demás cosas que Python necesita\n",
    "# a partir de lo que hemos especificado\n",
    "# Al compilar el modelo se mandan llamar las librerias en el backend, en nuestro caso Tensorflow\n",
    "#  loss --> función de perdida o loss function, que es utilizada para evaluar los pesos.\n",
    "#  optimizer --> define el oprimizador para los pesos\n",
    "#  matreics--> reposta la precisión de la clasificación en este caso se usa accuracy\n",
    "\n",
    "ffnn.compile(loss=\"mean_squared_error\", optimizer=\"sgd\", metrics=[\"accuracy\"])\n",
    "\n",
    "# entrena la red neuronal con los datos--> tr_data, indicado las etiquetas --> tr_labels, durante 150 épocas, \n",
    "# tomando dos muestras en lote. \n",
    "# verbose = 1  significa que imprimirá la precisión y la pérdida después\n",
    "# de cada época de entrenamiento.\n",
    "# batch_size --> número de instances que son evaluadas antes de que los pesos sean actualizados en la red neuronal. \n",
    "\n",
    "ffnn.fit(tr_data, tr_labels, epochs=150, batch_size=1, verbose=1)"
   ]
  },
  {
   "cell_type": "code",
   "execution_count": null,
   "metadata": {},
   "outputs": [],
   "source": [
    "# evalua el modelo con los datos de prueba\n",
    "metrics = ffnn.evaluate(te_data, te_labels, verbose=1)\n",
    "\n",
    "# se imprimen metricas del modelo, en este caso se imprime la certeza del modelo \n",
    "print(\"%s: %.2f%%\" % (ffnn.metrics_names[1],metrics[1]*100))"
   ]
  },
  {
   "cell_type": "code",
   "execution_count": null,
   "metadata": {},
   "outputs": [],
   "source": [
    "new_data = np.array(pd.read_csv(\"new_data.csv\"))\n",
    "results = ffnn.predict(new_data)\n",
    "print(results)"
   ]
  },
  {
   "cell_type": "code",
   "execution_count": null,
   "metadata": {},
   "outputs": [],
   "source": [
    "ffnn.summary()"
   ]
  }
 ],
 "metadata": {
  "kernelspec": {
   "display_name": "Python 3",
   "language": "python",
   "name": "python3"
  },
  "language_info": {
   "codemirror_mode": {
    "name": "ipython",
    "version": 3
   },
   "file_extension": ".py",
   "mimetype": "text/x-python",
   "name": "python",
   "nbconvert_exporter": "python",
   "pygments_lexer": "ipython3",
   "version": "3.7.6"
  }
 },
 "nbformat": 4,
 "nbformat_minor": 4
}
